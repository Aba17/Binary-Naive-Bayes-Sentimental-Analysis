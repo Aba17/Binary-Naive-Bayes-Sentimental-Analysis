{
  "nbformat": 4,
  "nbformat_minor": 0,
  "metadata": {
    "colab": {
      "name": "Binary_Naive_Bayes.ipynb",
      "provenance": [],
      "collapsed_sections": [],
      "authorship_tag": "ABX9TyOika2dcBf09NBDB9p24DWa",
      "include_colab_link": true
    },
    "kernelspec": {
      "name": "python3",
      "display_name": "Python 3"
    },
    "language_info": {
      "name": "python"
    },
    "accelerator": "GPU"
  },
  "cells": [
    {
      "cell_type": "markdown",
      "metadata": {
        "id": "view-in-github",
        "colab_type": "text"
      },
      "source": [
        "<a href=\"https://colab.research.google.com/github/Eminent01/Binary-Naive-Bayes-Sentimental-Analysis/blob/master/Binary_Naive_Bayes.ipynb\" target=\"_parent\"><img src=\"https://colab.research.google.com/assets/colab-badge.svg\" alt=\"Open In Colab\"/></a>"
      ]
    },
    {
      "cell_type": "markdown",
      "source": [
        "##Import necessary librariessary libaries"
      ],
      "metadata": {
        "id": "2dUOZ313BdWU"
      }
    },
    {
      "cell_type": "code",
      "execution_count": null,
      "metadata": {
        "id": "w2FkgdtSiI3p"
      },
      "outputs": [],
      "source": [
        "import numpy as np\n",
        "import matplotlib.pyplot as plt\n",
        "import pandas as pd"
      ]
    },
    {
      "cell_type": "markdown",
      "source": [
        "##Import the dataset"
      ],
      "metadata": {
        "id": "JDEbEcD2BZhc"
      }
    },
    {
      "cell_type": "code",
      "source": [
        "# data=pd.read_csv(\"/content/IMDB Dataset.csv\", sep=',')"
      ],
      "metadata": {
        "id": "kbosxOEV8kZc"
      },
      "execution_count": 145,
      "outputs": []
    },
    {
      "cell_type": "markdown",
      "source": [
        "### Convert all the letters in the text word to lower case"
      ],
      "metadata": {
        "id": "IzZeUzMMCUNY"
      }
    },
    {
      "cell_type": "code",
      "source": [
        "# data1=data.apply(lambda x: x.astype(str).str.lower())\n",
        "# data1"
      ],
      "metadata": {
        "id": "Ab23ukOBDQqG"
      },
      "execution_count": 147,
      "outputs": []
    },
    {
      "cell_type": "markdown",
      "source": [
        "##Expand contractions in the text file"
      ],
      "metadata": {
        "id": "9D95LNvAA1nk"
      }
    },
    {
      "cell_type": "code",
      "source": [
        "# !pip install contractions"
      ],
      "metadata": {
        "id": "LgoqzhIzw_q7"
      },
      "execution_count": null,
      "outputs": []
    },
    {
      "cell_type": "code",
      "source": [
        "# import contractions\n",
        "# import re"
      ],
      "metadata": {
        "id": "jkq_C91jAvJm"
      },
      "execution_count": null,
      "outputs": []
    },
    {
      "cell_type": "code",
      "source": [
        "# contractions_dict = {\"ain't\": \"are not\",\"'s\":\" is\",\"aren't\": \"are not\", \"i've\": \"i have\", \"i'm\":\"i am\"}\n",
        "# # Regular expression for finding contractions\n",
        "# contractions_re=re.compile('(%s)' % '|'.join(contractions_dict.keys()))\n",
        "# def expand_contractions(text,contractions_dict=contractions_dict):\n",
        "#     def replace(match):\n",
        "#         return contractions_dict[match.group(0)]\n",
        "#     return contractions_re.sub(replace, text)\n",
        "# # Expanding Contractions in the reviews\n",
        "# data1['review']=data1['review'].apply(lambda x:expand_contractions(x))"
      ],
      "metadata": {
        "id": "8uZQF3ucArnw"
      },
      "execution_count": 148,
      "outputs": []
    },
    {
      "cell_type": "markdown",
      "source": [
        "##Remove punctuations"
      ],
      "metadata": {
        "id": "DRsO0RZ-A8ps"
      }
    },
    {
      "cell_type": "code",
      "source": [
        "# def remove_punctuation(text):\n",
        "#   '''a function for removing punctuation'''\n",
        "#   import string\n",
        "#   # replacing the punctuations with no space, \n",
        "#   # which in effect deletes the punctuation marks \n",
        "#   translator = str.maketrans('', '', string.punctuation)\n",
        "#   # return the text stripped of punctuation marks\n",
        "#   return text.translate(translator)"
      ],
      "metadata": {
        "id": "SQPHERgcjjGt"
      },
      "execution_count": 149,
      "outputs": []
    },
    {
      "cell_type": "code",
      "source": [
        "# data['review'] = data['review'].apply(remove_punctuation)\n",
        "# data.head(10)"
      ],
      "metadata": {
        "id": "h3HyA64_YRmH"
      },
      "execution_count": 150,
      "outputs": []
    },
    {
      "cell_type": "markdown",
      "source": [
        "###Convert the sentiment to numerical value......1 for positive and 0 for negative"
      ],
      "metadata": {
        "id": "bpYXMGVGBGF2"
      }
    },
    {
      "cell_type": "code",
      "source": [
        "#Convert the sentiment to numerical value......1 for positive and 0 for negative\n",
        "# data = data.replace({'sentiment': {'positive': 1, 'negative': 0}})"
      ],
      "metadata": {
        "id": "CaA5clOobfRX"
      },
      "execution_count": null,
      "outputs": []
    },
    {
      "cell_type": "code",
      "source": [
        "# data['label'] = np.where(data['sentiment']=='positive',1,0)"
      ],
      "metadata": {
        "id": "ZLR1aVyO17uB"
      },
      "execution_count": null,
      "outputs": []
    },
    {
      "cell_type": "markdown",
      "source": [
        "##Removing the stopwords"
      ],
      "metadata": {
        "id": "hLEJ6Lyea8jB"
      }
    },
    {
      "cell_type": "code",
      "source": [
        "# import nltk\n",
        "# nltk.download('stopwords')"
      ],
      "metadata": {
        "id": "7eJn_BOrdzWk"
      },
      "execution_count": 151,
      "outputs": []
    },
    {
      "cell_type": "code",
      "source": [
        "# from nltk.corpus import stopwords"
      ],
      "metadata": {
        "id": "nuAqfhA0bT0_"
      },
      "execution_count": null,
      "outputs": []
    },
    {
      "cell_type": "code",
      "source": [
        "# extracting the stopwords from nltk library\n",
        "\n",
        "# sw = stopwords.words('english')\n",
        "# displaying the stopwords\n",
        "# np.array(sw)"
      ],
      "metadata": {
        "id": "9j2gAmrIYVKA"
      },
      "execution_count": 152,
      "outputs": []
    },
    {
      "cell_type": "code",
      "source": [
        "#A function to remove the stopwords\n",
        "# def stopwords(text):\n",
        "#     text = [word.lower() for word in text.split() if word.lower() not in sw]\n",
        "#     # joining the list of words with space separator\n",
        "#     return \" \".join(text)"
      ],
      "metadata": {
        "id": "qKVGLtKXeM-l"
      },
      "execution_count": 153,
      "outputs": []
    },
    {
      "cell_type": "code",
      "source": [
        "# data['review'] = data['review'].apply(stopwords)\n",
        "# data.head(10)"
      ],
      "metadata": {
        "id": "x2ZpVodAeWeH"
      },
      "execution_count": 154,
      "outputs": []
    },
    {
      "cell_type": "markdown",
      "source": [
        "##Data Preprocessing"
      ],
      "metadata": {
        "id": "8OxvFynmxlH4"
      }
    },
    {
      "cell_type": "code",
      "source": [
        "from collections import Counter\n",
        "\n",
        "from pyparsing import WordStart\n",
        "import numpy as np\n",
        "import matplotlib.pyplot as plt\n",
        "import pandas as pd\n",
        "import string\n",
        "import nltk\n",
        "nltk.download('stopwords')\n",
        "from nltk.corpus import stopwords\n",
        "import requests\n",
        "from io import StringIO\n",
        "import math\n",
        "\n",
        "\n",
        "class PreprocessData:\n",
        "    def __init__(self,path,lang='english'): \n",
        "        self.dataset=pd.read_csv(path, sep=\",\")\n",
        "        self.stopwords=stopwords.words(lang)\n",
        "        self.preprocess()\n",
        "    \n",
        "    @staticmethod\n",
        "    def remove_punctuation(text):\n",
        "        '''a function for removing punctuation'''\n",
        "        # replacing the punctuations with no space, \n",
        "        # which in effect deletes the punctuation marks \n",
        "        translator = str.maketrans('', '', string.punctuation)\n",
        "        # return the text stripped of punctuation marks\n",
        "        return text.translate(translator)\n",
        "\n",
        "    def replace_sentiment(self):\n",
        "    #Convert the sentiment to numerical value......1 for positive and 0 for negative\n",
        "        self.dataset = self.dataset.replace({'sentiment': {'positive': 1, 'negative': 0}})\n",
        "\n",
        "    #A function to remove the stopwords\n",
        "    def remove_stopwords(self,text):\n",
        "        text = [word.lower() for word in text.split() if word.lower() not in self.stopwords]\n",
        "        # joining the list of words with space separator\n",
        "        return \" \".join(text)\n",
        "\n",
        "    def preprocess(self):\n",
        "        self.dataset['review'] = self.dataset['review'].apply(self.remove_punctuation)\n",
        "        self.dataset['review'] = self.dataset['review'].apply(self.remove_stopwords)\n",
        "        self.replace_sentiment()\n"
      ],
      "metadata": {
        "colab": {
          "base_uri": "https://localhost:8080/"
        },
        "id": "bFRfxgpHbrnW",
        "outputId": "5da31624-3a66-45eb-c2bb-6af609124f12"
      },
      "execution_count": 2,
      "outputs": [
        {
          "output_type": "stream",
          "name": "stdout",
          "text": [
            "[nltk_data] Downloading package stopwords to /root/nltk_data...\n",
            "[nltk_data]   Package stopwords is already up-to-date!\n"
          ]
        }
      ]
    },
    {
      "cell_type": "markdown",
      "source": [
        "##Word Representation"
      ],
      "metadata": {
        "id": "ruIPo2xzyA4e"
      }
    },
    {
      "cell_type": "code",
      "source": [
        "class WordRepresentation:\n",
        "    def __init__(self,dataset):\n",
        "        self.dataset=dataset\n",
        "        self.ponderations={}\n",
        "        self.vectors={}\n",
        "        self.frequencies={}\n",
        "        self.length=0 #The number of words on the dataset\n",
        "        self.tf_idf()\n",
        "        self.one_hot()\n",
        "        self.frequency()\n",
        "    \n",
        "    #One hot\n",
        "    def one_hot(self):\n",
        "        if self.ponderations or self.frequencies:\n",
        "            #The case if we have the ponderations or the frequencies , we don't need to search the words again\n",
        "            #This condition will reduce the time complexity a lot   \n",
        "            words_dict={}\n",
        "            if self.ponderations:\n",
        "                words_dict=self.ponderations\n",
        "            else:\n",
        "                words_dict=self.frequencies\n",
        "            for word in words_dict:\n",
        "                self.vectors[word]=np.zeros(len(self.dataset))\n",
        "        else:\n",
        "            for i in range(len(self.dataset)):\n",
        "                document=self.dataset.iloc[i,0]\n",
        "                word_list=document.split(\" \")\n",
        "                for word in word_list:\n",
        "                    if word not in self.vectors:\n",
        "                        self.vectors[word]=np.zeros(len(self.dataset))\n",
        "        #Now we have all the words initialized as vector zero of size the length of the dataset\n",
        "        for word in self.vectors:\n",
        "            for i in range(len(self.dataset)):\n",
        "                document=self.dataset.iloc[i,0]\n",
        "                if word in document:\n",
        "                    self.vectors[word][i]=1\n",
        "\n",
        "\n",
        "\n",
        "\n",
        "    #Frequency encoding\n",
        "    def frequency(self):\n",
        "        if self.ponderations or self.vectors:\n",
        "            #The case if we have the ponderations or the frequences =, we don't need to search the words again\n",
        "            #This condition will reduce the time complexity a lot\n",
        "            \n",
        "            words_dict={}\n",
        "            if self.ponderations:\n",
        "                words_dict=self.ponderations\n",
        "            else:\n",
        "                words_dict=self.vectors\n",
        "            for word in words_dict:\n",
        "                self.frequencies[word]=np.zeros(len(self.dataset))\n",
        "        else:\n",
        "            for i in range(len(self.dataset)):\n",
        "                document=self.dataset.iloc[i,0]\n",
        "                word_list=document.split(\" \")\n",
        "                for word in word_list:\n",
        "                    if word not in self.frequencies:\n",
        "                        self.frequencies[word]=np.zeros(len(self.dataset))\n",
        "        #Now we have all the words initialized as zero scalar\n",
        "        self.compute_length()\n",
        "        for word in self.frequencies:\n",
        "            for i in range(len(self.dataset)):\n",
        "                document=self.dataset.iloc[i,0]\n",
        "                if word in document:\n",
        "                    self.frequencies[word][i]=document.count(word)/self.length\n",
        "    \n",
        "    \n",
        "    #This function takes a word and count the number of occurences of the word in the document\n",
        "    # def count_word(self,word,document):\n",
        "    #     sum=0\n",
        "    #     for i in range(len(self.dataset)):\n",
        "    #         document=self.dataset.iloc[i,0]\n",
        "    #         sum+=document.count(word)\n",
        "    #     return sum\n",
        "    #This function compute the length \n",
        "    def compute_length(self):\n",
        "        for i in range(len(self.dataset)):\n",
        "            document=self.dataset.iloc[i,0]\n",
        "            word_list=document.split(\" \")\n",
        "            self.length+=len(word_list)\n",
        "    \n",
        "\n",
        "    \n",
        "\n",
        "\n",
        "\n",
        "    #TF_IDF\n",
        "    def term_frequency(self,word,document):\n",
        "        #Frequence of the word over number of word of document\n",
        "        word_list=document.split(\" \")\n",
        "        dict=Counter(word_list) #Give a dictionnary which the keys are the words and the values are the number of occurences in word_list\n",
        "        return dict[word]/len(word_list)\n",
        "    \n",
        "    def inverse_document_frequency(self,word,document):\n",
        "        N=len(self.dataset)\n",
        "        #Contains return a list of True or False\n",
        "        doc_t=len(self.dataset[self.dataset['review'].str.contains(word)])\n",
        "        return math.log(N/doc_t)\n",
        "\n",
        "    def tf_idf(self):\n",
        "        if self.vectors or self.frequencies:\n",
        "            #The case if we have the vectors or the frequencies , we don't need to search the words again\n",
        "            #This condition will reduce the time complexity a lot   \n",
        "            words_dict={}\n",
        "            if self.vectors:\n",
        "                words_dict=self.vectors\n",
        "            else:\n",
        "                words_dict=self.frequencies\n",
        "            for word in words_dict:\n",
        "                self.vectors[word]=np.zeros(len(self.dataset))\n",
        "        else:\n",
        "            for i in range(len(self.dataset)):\n",
        "                document=self.dataset.iloc[i,0]\n",
        "                word_list=document.split(\" \")\n",
        "                for word in word_list:\n",
        "                    if word not in self.ponderations:\n",
        "                        self.ponderations[word]=np.zeros(len(self.dataset))\n",
        "\n",
        "        for word in self.ponderations:\n",
        "            for i in range(len(self.dataset)):\n",
        "                document=self.dataset.iloc[i,0]\n",
        "                if word in document:\n",
        "                    self.ponderations[word][i]=self.term_frequency(word,document)*self.inverse_document_frequency(word,document)\n",
        "\n",
        "\n",
        "\n",
        "\n",
        "\n",
        "\n"
      ],
      "metadata": {
        "id": "MImvb3AkYAZT"
      },
      "execution_count": 3,
      "outputs": []
    },
    {
      "cell_type": "code",
      "source": [
        "# path=\"/Users/aba/Desktop/BNB/IMDB_Dataset.csv\"\n",
        "# documents=PreprocessData(path)\n",
        "# words=WordRepresentation(documents.dataset.iloc[:5,:])\n",
        "# print(words.frequencies)\n",
        "# #vectors=words.vectors"
      ],
      "metadata": {
        "id": "eMCcM1LdyUOl"
      },
      "execution_count": 158,
      "outputs": []
    },
    {
      "cell_type": "code",
      "source": [
        "path=\"/content/IMDB Dataset.csv\""
      ],
      "metadata": {
        "id": "y05TJ6kYcVjm"
      },
      "execution_count": 4,
      "outputs": []
    },
    {
      "cell_type": "code",
      "source": [
        "documents=PreprocessData(path)"
      ],
      "metadata": {
        "id": "SE5EainEV3iw"
      },
      "execution_count": 5,
      "outputs": []
    },
    {
      "cell_type": "code",
      "source": [
        "doc= documents.dataset"
      ],
      "metadata": {
        "id": "-eZt4r4xXP4r"
      },
      "execution_count": 6,
      "outputs": []
    },
    {
      "cell_type": "code",
      "source": [
        "doc"
      ],
      "metadata": {
        "colab": {
          "base_uri": "https://localhost:8080/",
          "height": 419
        },
        "id": "5SDBtPS8l3ls",
        "outputId": "ab9d8a9c-9d47-4877-993b-09893e6b26e6"
      },
      "execution_count": 7,
      "outputs": [
        {
          "output_type": "execute_result",
          "data": {
            "text/plain": [
              "                                                  review  sentiment\n",
              "0      one reviewers mentioned watching 1 oz episode ...          1\n",
              "1      wonderful little production br br filming tech...          1\n",
              "2      thought wonderful way spend time hot summer we...          1\n",
              "3      basically theres family little boy jake thinks...          0\n",
              "4      petter matteis love time money visually stunni...          1\n",
              "...                                                  ...        ...\n",
              "49995  thought movie right good job wasnt creative or...          1\n",
              "49996  bad plot bad dialogue bad acting idiotic direc...          0\n",
              "49997  catholic taught parochial elementary schools n...          0\n",
              "49998  im going disagree previous comment side maltin...          0\n",
              "49999  one expects star trek movies high art fans exp...          0\n",
              "\n",
              "[50000 rows x 2 columns]"
            ],
            "text/html": [
              "\n",
              "  <div id=\"df-c4ed5a5d-73a3-4d68-ad51-2062c1f5f84d\">\n",
              "    <div class=\"colab-df-container\">\n",
              "      <div>\n",
              "<style scoped>\n",
              "    .dataframe tbody tr th:only-of-type {\n",
              "        vertical-align: middle;\n",
              "    }\n",
              "\n",
              "    .dataframe tbody tr th {\n",
              "        vertical-align: top;\n",
              "    }\n",
              "\n",
              "    .dataframe thead th {\n",
              "        text-align: right;\n",
              "    }\n",
              "</style>\n",
              "<table border=\"1\" class=\"dataframe\">\n",
              "  <thead>\n",
              "    <tr style=\"text-align: right;\">\n",
              "      <th></th>\n",
              "      <th>review</th>\n",
              "      <th>sentiment</th>\n",
              "    </tr>\n",
              "  </thead>\n",
              "  <tbody>\n",
              "    <tr>\n",
              "      <th>0</th>\n",
              "      <td>one reviewers mentioned watching 1 oz episode ...</td>\n",
              "      <td>1</td>\n",
              "    </tr>\n",
              "    <tr>\n",
              "      <th>1</th>\n",
              "      <td>wonderful little production br br filming tech...</td>\n",
              "      <td>1</td>\n",
              "    </tr>\n",
              "    <tr>\n",
              "      <th>2</th>\n",
              "      <td>thought wonderful way spend time hot summer we...</td>\n",
              "      <td>1</td>\n",
              "    </tr>\n",
              "    <tr>\n",
              "      <th>3</th>\n",
              "      <td>basically theres family little boy jake thinks...</td>\n",
              "      <td>0</td>\n",
              "    </tr>\n",
              "    <tr>\n",
              "      <th>4</th>\n",
              "      <td>petter matteis love time money visually stunni...</td>\n",
              "      <td>1</td>\n",
              "    </tr>\n",
              "    <tr>\n",
              "      <th>...</th>\n",
              "      <td>...</td>\n",
              "      <td>...</td>\n",
              "    </tr>\n",
              "    <tr>\n",
              "      <th>49995</th>\n",
              "      <td>thought movie right good job wasnt creative or...</td>\n",
              "      <td>1</td>\n",
              "    </tr>\n",
              "    <tr>\n",
              "      <th>49996</th>\n",
              "      <td>bad plot bad dialogue bad acting idiotic direc...</td>\n",
              "      <td>0</td>\n",
              "    </tr>\n",
              "    <tr>\n",
              "      <th>49997</th>\n",
              "      <td>catholic taught parochial elementary schools n...</td>\n",
              "      <td>0</td>\n",
              "    </tr>\n",
              "    <tr>\n",
              "      <th>49998</th>\n",
              "      <td>im going disagree previous comment side maltin...</td>\n",
              "      <td>0</td>\n",
              "    </tr>\n",
              "    <tr>\n",
              "      <th>49999</th>\n",
              "      <td>one expects star trek movies high art fans exp...</td>\n",
              "      <td>0</td>\n",
              "    </tr>\n",
              "  </tbody>\n",
              "</table>\n",
              "<p>50000 rows × 2 columns</p>\n",
              "</div>\n",
              "      <button class=\"colab-df-convert\" onclick=\"convertToInteractive('df-c4ed5a5d-73a3-4d68-ad51-2062c1f5f84d')\"\n",
              "              title=\"Convert this dataframe to an interactive table.\"\n",
              "              style=\"display:none;\">\n",
              "        \n",
              "  <svg xmlns=\"http://www.w3.org/2000/svg\" height=\"24px\"viewBox=\"0 0 24 24\"\n",
              "       width=\"24px\">\n",
              "    <path d=\"M0 0h24v24H0V0z\" fill=\"none\"/>\n",
              "    <path d=\"M18.56 5.44l.94 2.06.94-2.06 2.06-.94-2.06-.94-.94-2.06-.94 2.06-2.06.94zm-11 1L8.5 8.5l.94-2.06 2.06-.94-2.06-.94L8.5 2.5l-.94 2.06-2.06.94zm10 10l.94 2.06.94-2.06 2.06-.94-2.06-.94-.94-2.06-.94 2.06-2.06.94z\"/><path d=\"M17.41 7.96l-1.37-1.37c-.4-.4-.92-.59-1.43-.59-.52 0-1.04.2-1.43.59L10.3 9.45l-7.72 7.72c-.78.78-.78 2.05 0 2.83L4 21.41c.39.39.9.59 1.41.59.51 0 1.02-.2 1.41-.59l7.78-7.78 2.81-2.81c.8-.78.8-2.07 0-2.86zM5.41 20L4 18.59l7.72-7.72 1.47 1.35L5.41 20z\"/>\n",
              "  </svg>\n",
              "      </button>\n",
              "      \n",
              "  <style>\n",
              "    .colab-df-container {\n",
              "      display:flex;\n",
              "      flex-wrap:wrap;\n",
              "      gap: 12px;\n",
              "    }\n",
              "\n",
              "    .colab-df-convert {\n",
              "      background-color: #E8F0FE;\n",
              "      border: none;\n",
              "      border-radius: 50%;\n",
              "      cursor: pointer;\n",
              "      display: none;\n",
              "      fill: #1967D2;\n",
              "      height: 32px;\n",
              "      padding: 0 0 0 0;\n",
              "      width: 32px;\n",
              "    }\n",
              "\n",
              "    .colab-df-convert:hover {\n",
              "      background-color: #E2EBFA;\n",
              "      box-shadow: 0px 1px 2px rgba(60, 64, 67, 0.3), 0px 1px 3px 1px rgba(60, 64, 67, 0.15);\n",
              "      fill: #174EA6;\n",
              "    }\n",
              "\n",
              "    [theme=dark] .colab-df-convert {\n",
              "      background-color: #3B4455;\n",
              "      fill: #D2E3FC;\n",
              "    }\n",
              "\n",
              "    [theme=dark] .colab-df-convert:hover {\n",
              "      background-color: #434B5C;\n",
              "      box-shadow: 0px 1px 3px 1px rgba(0, 0, 0, 0.15);\n",
              "      filter: drop-shadow(0px 1px 2px rgba(0, 0, 0, 0.3));\n",
              "      fill: #FFFFFF;\n",
              "    }\n",
              "  </style>\n",
              "\n",
              "      <script>\n",
              "        const buttonEl =\n",
              "          document.querySelector('#df-c4ed5a5d-73a3-4d68-ad51-2062c1f5f84d button.colab-df-convert');\n",
              "        buttonEl.style.display =\n",
              "          google.colab.kernel.accessAllowed ? 'block' : 'none';\n",
              "\n",
              "        async function convertToInteractive(key) {\n",
              "          const element = document.querySelector('#df-c4ed5a5d-73a3-4d68-ad51-2062c1f5f84d');\n",
              "          const dataTable =\n",
              "            await google.colab.kernel.invokeFunction('convertToInteractive',\n",
              "                                                     [key], {});\n",
              "          if (!dataTable) return;\n",
              "\n",
              "          const docLinkHtml = 'Like what you see? Visit the ' +\n",
              "            '<a target=\"_blank\" href=https://colab.research.google.com/notebooks/data_table.ipynb>data table notebook</a>'\n",
              "            + ' to learn more about interactive tables.';\n",
              "          element.innerHTML = '';\n",
              "          dataTable['output_type'] = 'display_data';\n",
              "          await google.colab.output.renderOutput(dataTable, element);\n",
              "          const docLink = document.createElement('div');\n",
              "          docLink.innerHTML = docLinkHtml;\n",
              "          element.appendChild(docLink);\n",
              "        }\n",
              "      </script>\n",
              "    </div>\n",
              "  </div>\n",
              "  "
            ]
          },
          "metadata": {},
          "execution_count": 7
        }
      ]
    },
    {
      "cell_type": "code",
      "source": [
        "# label=doc.sentiment"
      ],
      "metadata": {
        "id": "QfFoeaWtp61a"
      },
      "execution_count": 83,
      "outputs": []
    },
    {
      "cell_type": "code",
      "source": [
        "words=WordRepresentation(documents.dataset.iloc[:5000,:])"
      ],
      "metadata": {
        "id": "Y8hywqS2V73k"
      },
      "execution_count": null,
      "outputs": []
    },
    {
      "cell_type": "code",
      "source": [
        "tf_idf=words.ponderations"
      ],
      "metadata": {
        "id": "-xvZS3h102Ar"
      },
      "execution_count": 217,
      "outputs": []
    },
    {
      "cell_type": "code",
      "source": [
        "# C_frequency=words.frequencies"
      ],
      "metadata": {
        "id": "urd9WsJX1P6U"
      },
      "execution_count": 184,
      "outputs": []
    },
    {
      "cell_type": "code",
      "source": [
        "doc1=words.vectors"
      ],
      "metadata": {
        "id": "LIHq7GSdWZkm"
      },
      "execution_count": 167,
      "outputs": []
    },
    {
      "cell_type": "code",
      "source": [
        "vec=pd.DataFrame(tf_idf)"
      ],
      "metadata": {
        "id": "-OFvigDvcsNO"
      },
      "execution_count": 218,
      "outputs": []
    },
    {
      "cell_type": "code",
      "source": [
        " vec[\"label\"]=doc.iloc[:100,-1]"
      ],
      "metadata": {
        "id": "Lp5C_p00rBh8"
      },
      "execution_count": 219,
      "outputs": []
    },
    {
      "cell_type": "code",
      "source": [
        "vec"
      ],
      "metadata": {
        "colab": {
          "base_uri": "https://localhost:8080/",
          "height": 483
        },
        "id": "qKU0VgnNuYAB",
        "outputId": "9e748a11-6fd9-4351-c7ce-91f5b6b6a480"
      },
      "execution_count": 259,
      "outputs": [
        {
          "output_type": "execute_result",
          "data": {
            "text/plain": [
              "         one  reviewers  mentioned  watching         1        oz   episode  \\\n",
              "0   0.002003   0.026931   0.018824  0.022189  0.005658  0.077756  0.045755   \n",
              "1   0.003805   0.000000   0.000000  0.021079  0.000000  0.000000  0.000000   \n",
              "2   0.003892   0.000000   0.000000  0.021558  0.000000  0.000000  0.000000   \n",
              "3   0.000000   0.000000   0.000000  0.000000  0.000000  0.000000  0.000000   \n",
              "4   0.015807   0.000000   0.000000  0.000000  0.000000  0.000000  0.000000   \n",
              "..       ...        ...        ...       ...       ...       ...       ...   \n",
              "95  0.000000   0.000000   0.000000  0.000000  0.000000  0.000000  0.000000   \n",
              "96  0.006715   0.000000   0.000000  0.018599  0.000000  0.000000  0.000000   \n",
              "97  0.000000   0.000000   0.000000  0.000000  0.000000  0.000000  0.000000   \n",
              "98  0.003644   0.000000   0.000000  0.020182  0.000000  0.000000  0.000000   \n",
              "99  0.000000   0.000000   0.000000  0.000000  0.000000  0.000000  0.000000   \n",
              "\n",
              "       youll    hooked     right  ...  describe       360   gamesbr    gripes  \\\n",
              "0   0.026931  0.022877  0.020056  ...  0.000000  0.000000  0.000000  0.000000   \n",
              "1   0.000000  0.000000  0.000000  ...  0.000000  0.000000  0.000000  0.000000   \n",
              "2   0.000000  0.000000  0.019486  ...  0.000000  0.000000  0.000000  0.000000   \n",
              "3   0.000000  0.000000  0.000000  ...  0.000000  0.000000  0.000000  0.000000   \n",
              "4   0.000000  0.000000  0.000000  ...  0.000000  0.000000  0.000000  0.000000   \n",
              "..       ...       ...       ...  ...       ...       ...       ...       ...   \n",
              "95  0.000000  0.000000  0.000000  ...  0.000000  0.000000  0.000000  0.000000   \n",
              "96  0.000000  0.000000  0.000000  ...  0.000000  0.000000  0.000000  0.000000   \n",
              "97  0.000000  0.000000  0.000000  ...  0.000000  0.000000  0.000000  0.000000   \n",
              "98  0.000000  0.000000  0.000000  ...  0.000000  0.000000  0.000000  0.000000   \n",
              "99  0.000000  0.000000  0.000000  ...  0.010776  0.016565  0.016565  0.016565   \n",
              "\n",
              "      upside   restart    superb  challenging     wiibr  label  \n",
              "0   0.000000  0.000000  0.000000     0.000000  0.000000      1  \n",
              "1   0.000000  0.000000  0.000000     0.000000  0.000000      1  \n",
              "2   0.000000  0.000000  0.000000     0.000000  0.000000      1  \n",
              "3   0.000000  0.000000  0.000000     0.000000  0.000000      0  \n",
              "4   0.000000  0.000000  0.000000     0.000000  0.000000      1  \n",
              "..       ...       ...       ...          ...       ...    ...  \n",
              "95  0.000000  0.000000  0.000000     0.000000  0.000000      1  \n",
              "96  0.000000  0.000000  0.000000     0.000000  0.000000      0  \n",
              "97  0.000000  0.000000  0.000000     0.000000  0.000000      0  \n",
              "98  0.000000  0.000000  0.000000     0.000000  0.000000      0  \n",
              "99  0.016565  0.016565  0.016565     0.016565  0.016565      1  \n",
              "\n",
              "[100 rows x 4916 columns]"
            ],
            "text/html": [
              "\n",
              "  <div id=\"df-bf1f7251-c2a2-472f-97ce-e6c6f54faf5f\">\n",
              "    <div class=\"colab-df-container\">\n",
              "      <div>\n",
              "<style scoped>\n",
              "    .dataframe tbody tr th:only-of-type {\n",
              "        vertical-align: middle;\n",
              "    }\n",
              "\n",
              "    .dataframe tbody tr th {\n",
              "        vertical-align: top;\n",
              "    }\n",
              "\n",
              "    .dataframe thead th {\n",
              "        text-align: right;\n",
              "    }\n",
              "</style>\n",
              "<table border=\"1\" class=\"dataframe\">\n",
              "  <thead>\n",
              "    <tr style=\"text-align: right;\">\n",
              "      <th></th>\n",
              "      <th>one</th>\n",
              "      <th>reviewers</th>\n",
              "      <th>mentioned</th>\n",
              "      <th>watching</th>\n",
              "      <th>1</th>\n",
              "      <th>oz</th>\n",
              "      <th>episode</th>\n",
              "      <th>youll</th>\n",
              "      <th>hooked</th>\n",
              "      <th>right</th>\n",
              "      <th>...</th>\n",
              "      <th>describe</th>\n",
              "      <th>360</th>\n",
              "      <th>gamesbr</th>\n",
              "      <th>gripes</th>\n",
              "      <th>upside</th>\n",
              "      <th>restart</th>\n",
              "      <th>superb</th>\n",
              "      <th>challenging</th>\n",
              "      <th>wiibr</th>\n",
              "      <th>label</th>\n",
              "    </tr>\n",
              "  </thead>\n",
              "  <tbody>\n",
              "    <tr>\n",
              "      <th>0</th>\n",
              "      <td>0.002003</td>\n",
              "      <td>0.026931</td>\n",
              "      <td>0.018824</td>\n",
              "      <td>0.022189</td>\n",
              "      <td>0.005658</td>\n",
              "      <td>0.077756</td>\n",
              "      <td>0.045755</td>\n",
              "      <td>0.026931</td>\n",
              "      <td>0.022877</td>\n",
              "      <td>0.020056</td>\n",
              "      <td>...</td>\n",
              "      <td>0.000000</td>\n",
              "      <td>0.000000</td>\n",
              "      <td>0.000000</td>\n",
              "      <td>0.000000</td>\n",
              "      <td>0.000000</td>\n",
              "      <td>0.000000</td>\n",
              "      <td>0.000000</td>\n",
              "      <td>0.000000</td>\n",
              "      <td>0.000000</td>\n",
              "      <td>1</td>\n",
              "    </tr>\n",
              "    <tr>\n",
              "      <th>1</th>\n",
              "      <td>0.003805</td>\n",
              "      <td>0.000000</td>\n",
              "      <td>0.000000</td>\n",
              "      <td>0.021079</td>\n",
              "      <td>0.000000</td>\n",
              "      <td>0.000000</td>\n",
              "      <td>0.000000</td>\n",
              "      <td>0.000000</td>\n",
              "      <td>0.000000</td>\n",
              "      <td>0.000000</td>\n",
              "      <td>...</td>\n",
              "      <td>0.000000</td>\n",
              "      <td>0.000000</td>\n",
              "      <td>0.000000</td>\n",
              "      <td>0.000000</td>\n",
              "      <td>0.000000</td>\n",
              "      <td>0.000000</td>\n",
              "      <td>0.000000</td>\n",
              "      <td>0.000000</td>\n",
              "      <td>0.000000</td>\n",
              "      <td>1</td>\n",
              "    </tr>\n",
              "    <tr>\n",
              "      <th>2</th>\n",
              "      <td>0.003892</td>\n",
              "      <td>0.000000</td>\n",
              "      <td>0.000000</td>\n",
              "      <td>0.021558</td>\n",
              "      <td>0.000000</td>\n",
              "      <td>0.000000</td>\n",
              "      <td>0.000000</td>\n",
              "      <td>0.000000</td>\n",
              "      <td>0.000000</td>\n",
              "      <td>0.019486</td>\n",
              "      <td>...</td>\n",
              "      <td>0.000000</td>\n",
              "      <td>0.000000</td>\n",
              "      <td>0.000000</td>\n",
              "      <td>0.000000</td>\n",
              "      <td>0.000000</td>\n",
              "      <td>0.000000</td>\n",
              "      <td>0.000000</td>\n",
              "      <td>0.000000</td>\n",
              "      <td>0.000000</td>\n",
              "      <td>1</td>\n",
              "    </tr>\n",
              "    <tr>\n",
              "      <th>3</th>\n",
              "      <td>0.000000</td>\n",
              "      <td>0.000000</td>\n",
              "      <td>0.000000</td>\n",
              "      <td>0.000000</td>\n",
              "      <td>0.000000</td>\n",
              "      <td>0.000000</td>\n",
              "      <td>0.000000</td>\n",
              "      <td>0.000000</td>\n",
              "      <td>0.000000</td>\n",
              "      <td>0.000000</td>\n",
              "      <td>...</td>\n",
              "      <td>0.000000</td>\n",
              "      <td>0.000000</td>\n",
              "      <td>0.000000</td>\n",
              "      <td>0.000000</td>\n",
              "      <td>0.000000</td>\n",
              "      <td>0.000000</td>\n",
              "      <td>0.000000</td>\n",
              "      <td>0.000000</td>\n",
              "      <td>0.000000</td>\n",
              "      <td>0</td>\n",
              "    </tr>\n",
              "    <tr>\n",
              "      <th>4</th>\n",
              "      <td>0.015807</td>\n",
              "      <td>0.000000</td>\n",
              "      <td>0.000000</td>\n",
              "      <td>0.000000</td>\n",
              "      <td>0.000000</td>\n",
              "      <td>0.000000</td>\n",
              "      <td>0.000000</td>\n",
              "      <td>0.000000</td>\n",
              "      <td>0.000000</td>\n",
              "      <td>0.000000</td>\n",
              "      <td>...</td>\n",
              "      <td>0.000000</td>\n",
              "      <td>0.000000</td>\n",
              "      <td>0.000000</td>\n",
              "      <td>0.000000</td>\n",
              "      <td>0.000000</td>\n",
              "      <td>0.000000</td>\n",
              "      <td>0.000000</td>\n",
              "      <td>0.000000</td>\n",
              "      <td>0.000000</td>\n",
              "      <td>1</td>\n",
              "    </tr>\n",
              "    <tr>\n",
              "      <th>...</th>\n",
              "      <td>...</td>\n",
              "      <td>...</td>\n",
              "      <td>...</td>\n",
              "      <td>...</td>\n",
              "      <td>...</td>\n",
              "      <td>...</td>\n",
              "      <td>...</td>\n",
              "      <td>...</td>\n",
              "      <td>...</td>\n",
              "      <td>...</td>\n",
              "      <td>...</td>\n",
              "      <td>...</td>\n",
              "      <td>...</td>\n",
              "      <td>...</td>\n",
              "      <td>...</td>\n",
              "      <td>...</td>\n",
              "      <td>...</td>\n",
              "      <td>...</td>\n",
              "      <td>...</td>\n",
              "      <td>...</td>\n",
              "      <td>...</td>\n",
              "    </tr>\n",
              "    <tr>\n",
              "      <th>95</th>\n",
              "      <td>0.000000</td>\n",
              "      <td>0.000000</td>\n",
              "      <td>0.000000</td>\n",
              "      <td>0.000000</td>\n",
              "      <td>0.000000</td>\n",
              "      <td>0.000000</td>\n",
              "      <td>0.000000</td>\n",
              "      <td>0.000000</td>\n",
              "      <td>0.000000</td>\n",
              "      <td>0.000000</td>\n",
              "      <td>...</td>\n",
              "      <td>0.000000</td>\n",
              "      <td>0.000000</td>\n",
              "      <td>0.000000</td>\n",
              "      <td>0.000000</td>\n",
              "      <td>0.000000</td>\n",
              "      <td>0.000000</td>\n",
              "      <td>0.000000</td>\n",
              "      <td>0.000000</td>\n",
              "      <td>0.000000</td>\n",
              "      <td>1</td>\n",
              "    </tr>\n",
              "    <tr>\n",
              "      <th>96</th>\n",
              "      <td>0.006715</td>\n",
              "      <td>0.000000</td>\n",
              "      <td>0.000000</td>\n",
              "      <td>0.018599</td>\n",
              "      <td>0.000000</td>\n",
              "      <td>0.000000</td>\n",
              "      <td>0.000000</td>\n",
              "      <td>0.000000</td>\n",
              "      <td>0.000000</td>\n",
              "      <td>0.000000</td>\n",
              "      <td>...</td>\n",
              "      <td>0.000000</td>\n",
              "      <td>0.000000</td>\n",
              "      <td>0.000000</td>\n",
              "      <td>0.000000</td>\n",
              "      <td>0.000000</td>\n",
              "      <td>0.000000</td>\n",
              "      <td>0.000000</td>\n",
              "      <td>0.000000</td>\n",
              "      <td>0.000000</td>\n",
              "      <td>0</td>\n",
              "    </tr>\n",
              "    <tr>\n",
              "      <th>97</th>\n",
              "      <td>0.000000</td>\n",
              "      <td>0.000000</td>\n",
              "      <td>0.000000</td>\n",
              "      <td>0.000000</td>\n",
              "      <td>0.000000</td>\n",
              "      <td>0.000000</td>\n",
              "      <td>0.000000</td>\n",
              "      <td>0.000000</td>\n",
              "      <td>0.000000</td>\n",
              "      <td>0.000000</td>\n",
              "      <td>...</td>\n",
              "      <td>0.000000</td>\n",
              "      <td>0.000000</td>\n",
              "      <td>0.000000</td>\n",
              "      <td>0.000000</td>\n",
              "      <td>0.000000</td>\n",
              "      <td>0.000000</td>\n",
              "      <td>0.000000</td>\n",
              "      <td>0.000000</td>\n",
              "      <td>0.000000</td>\n",
              "      <td>0</td>\n",
              "    </tr>\n",
              "    <tr>\n",
              "      <th>98</th>\n",
              "      <td>0.003644</td>\n",
              "      <td>0.000000</td>\n",
              "      <td>0.000000</td>\n",
              "      <td>0.020182</td>\n",
              "      <td>0.000000</td>\n",
              "      <td>0.000000</td>\n",
              "      <td>0.000000</td>\n",
              "      <td>0.000000</td>\n",
              "      <td>0.000000</td>\n",
              "      <td>0.000000</td>\n",
              "      <td>...</td>\n",
              "      <td>0.000000</td>\n",
              "      <td>0.000000</td>\n",
              "      <td>0.000000</td>\n",
              "      <td>0.000000</td>\n",
              "      <td>0.000000</td>\n",
              "      <td>0.000000</td>\n",
              "      <td>0.000000</td>\n",
              "      <td>0.000000</td>\n",
              "      <td>0.000000</td>\n",
              "      <td>0</td>\n",
              "    </tr>\n",
              "    <tr>\n",
              "      <th>99</th>\n",
              "      <td>0.000000</td>\n",
              "      <td>0.000000</td>\n",
              "      <td>0.000000</td>\n",
              "      <td>0.000000</td>\n",
              "      <td>0.000000</td>\n",
              "      <td>0.000000</td>\n",
              "      <td>0.000000</td>\n",
              "      <td>0.000000</td>\n",
              "      <td>0.000000</td>\n",
              "      <td>0.000000</td>\n",
              "      <td>...</td>\n",
              "      <td>0.010776</td>\n",
              "      <td>0.016565</td>\n",
              "      <td>0.016565</td>\n",
              "      <td>0.016565</td>\n",
              "      <td>0.016565</td>\n",
              "      <td>0.016565</td>\n",
              "      <td>0.016565</td>\n",
              "      <td>0.016565</td>\n",
              "      <td>0.016565</td>\n",
              "      <td>1</td>\n",
              "    </tr>\n",
              "  </tbody>\n",
              "</table>\n",
              "<p>100 rows × 4916 columns</p>\n",
              "</div>\n",
              "      <button class=\"colab-df-convert\" onclick=\"convertToInteractive('df-bf1f7251-c2a2-472f-97ce-e6c6f54faf5f')\"\n",
              "              title=\"Convert this dataframe to an interactive table.\"\n",
              "              style=\"display:none;\">\n",
              "        \n",
              "  <svg xmlns=\"http://www.w3.org/2000/svg\" height=\"24px\"viewBox=\"0 0 24 24\"\n",
              "       width=\"24px\">\n",
              "    <path d=\"M0 0h24v24H0V0z\" fill=\"none\"/>\n",
              "    <path d=\"M18.56 5.44l.94 2.06.94-2.06 2.06-.94-2.06-.94-.94-2.06-.94 2.06-2.06.94zm-11 1L8.5 8.5l.94-2.06 2.06-.94-2.06-.94L8.5 2.5l-.94 2.06-2.06.94zm10 10l.94 2.06.94-2.06 2.06-.94-2.06-.94-.94-2.06-.94 2.06-2.06.94z\"/><path d=\"M17.41 7.96l-1.37-1.37c-.4-.4-.92-.59-1.43-.59-.52 0-1.04.2-1.43.59L10.3 9.45l-7.72 7.72c-.78.78-.78 2.05 0 2.83L4 21.41c.39.39.9.59 1.41.59.51 0 1.02-.2 1.41-.59l7.78-7.78 2.81-2.81c.8-.78.8-2.07 0-2.86zM5.41 20L4 18.59l7.72-7.72 1.47 1.35L5.41 20z\"/>\n",
              "  </svg>\n",
              "      </button>\n",
              "      \n",
              "  <style>\n",
              "    .colab-df-container {\n",
              "      display:flex;\n",
              "      flex-wrap:wrap;\n",
              "      gap: 12px;\n",
              "    }\n",
              "\n",
              "    .colab-df-convert {\n",
              "      background-color: #E8F0FE;\n",
              "      border: none;\n",
              "      border-radius: 50%;\n",
              "      cursor: pointer;\n",
              "      display: none;\n",
              "      fill: #1967D2;\n",
              "      height: 32px;\n",
              "      padding: 0 0 0 0;\n",
              "      width: 32px;\n",
              "    }\n",
              "\n",
              "    .colab-df-convert:hover {\n",
              "      background-color: #E2EBFA;\n",
              "      box-shadow: 0px 1px 2px rgba(60, 64, 67, 0.3), 0px 1px 3px 1px rgba(60, 64, 67, 0.15);\n",
              "      fill: #174EA6;\n",
              "    }\n",
              "\n",
              "    [theme=dark] .colab-df-convert {\n",
              "      background-color: #3B4455;\n",
              "      fill: #D2E3FC;\n",
              "    }\n",
              "\n",
              "    [theme=dark] .colab-df-convert:hover {\n",
              "      background-color: #434B5C;\n",
              "      box-shadow: 0px 1px 3px 1px rgba(0, 0, 0, 0.15);\n",
              "      filter: drop-shadow(0px 1px 2px rgba(0, 0, 0, 0.3));\n",
              "      fill: #FFFFFF;\n",
              "    }\n",
              "  </style>\n",
              "\n",
              "      <script>\n",
              "        const buttonEl =\n",
              "          document.querySelector('#df-bf1f7251-c2a2-472f-97ce-e6c6f54faf5f button.colab-df-convert');\n",
              "        buttonEl.style.display =\n",
              "          google.colab.kernel.accessAllowed ? 'block' : 'none';\n",
              "\n",
              "        async function convertToInteractive(key) {\n",
              "          const element = document.querySelector('#df-bf1f7251-c2a2-472f-97ce-e6c6f54faf5f');\n",
              "          const dataTable =\n",
              "            await google.colab.kernel.invokeFunction('convertToInteractive',\n",
              "                                                     [key], {});\n",
              "          if (!dataTable) return;\n",
              "\n",
              "          const docLinkHtml = 'Like what you see? Visit the ' +\n",
              "            '<a target=\"_blank\" href=https://colab.research.google.com/notebooks/data_table.ipynb>data table notebook</a>'\n",
              "            + ' to learn more about interactive tables.';\n",
              "          element.innerHTML = '';\n",
              "          dataTable['output_type'] = 'display_data';\n",
              "          await google.colab.output.renderOutput(dataTable, element);\n",
              "          const docLink = document.createElement('div');\n",
              "          docLink.innerHTML = docLinkHtml;\n",
              "          element.appendChild(docLink);\n",
              "        }\n",
              "      </script>\n",
              "    </div>\n",
              "  </div>\n",
              "  "
            ]
          },
          "metadata": {},
          "execution_count": 259
        }
      ]
    },
    {
      "cell_type": "code",
      "source": [
        "#s=vec.to_numpy()\n",
        "#print(s)\n",
        "#type(s)"
      ],
      "metadata": {
        "colab": {
          "base_uri": "https://localhost:8080/"
        },
        "id": "3xcbAQWiAMUx",
        "outputId": "ba772a82-0028-40fe-f8f4-8411816a5b41"
      },
      "execution_count": 258,
      "outputs": [
        {
          "output_type": "stream",
          "name": "stdout",
          "text": [
            "[[0.00200287 0.02693082 0.01882384 ... 0.         0.         1.        ]\n",
            " [0.00380545 0.         0.         ... 0.         0.         1.        ]\n",
            " [0.00389194 0.         0.         ... 0.         0.         1.        ]\n",
            " ...\n",
            " [0.         0.         0.         ... 0.         0.         0.        ]\n",
            " [0.00364351 0.         0.         ... 0.         0.         0.        ]\n",
            " [0.         0.         0.         ... 0.01656536 0.01656536 1.        ]]\n"
          ]
        },
        {
          "output_type": "execute_result",
          "data": {
            "text/plain": [
              "numpy.ndarray"
            ]
          },
          "metadata": {},
          "execution_count": 258
        }
      ]
    },
    {
      "cell_type": "code",
      "source": [
        "size=int(0.8*len(vec.iloc[:100]))\n",
        "size"
      ],
      "metadata": {
        "colab": {
          "base_uri": "https://localhost:8080/"
        },
        "id": "qNshMFGmiBsl",
        "outputId": "e96a0e63-4fea-46cc-e8b5-dc0d0d9ea13b"
      },
      "execution_count": 260,
      "outputs": [
        {
          "output_type": "execute_result",
          "data": {
            "text/plain": [
              "80"
            ]
          },
          "metadata": {},
          "execution_count": 260
        }
      ]
    },
    {
      "cell_type": "code",
      "source": [
        "Xtrain=vec.iloc[:size,:-1]\n",
        "Xtest=vec.iloc[size:,:-1]"
      ],
      "metadata": {
        "id": "xT8WpLUih8G6"
      },
      "execution_count": 261,
      "outputs": []
    },
    {
      "cell_type": "code",
      "source": [
        "Xtrain = Xtrain.to_numpy()\n",
        "type(Xtrain)"
      ],
      "metadata": {
        "colab": {
          "base_uri": "https://localhost:8080/"
        },
        "id": "oLHVDTK6h8A0",
        "outputId": "0dfeee4e-a23a-4955-b797-3bd9942f818b"
      },
      "execution_count": 262,
      "outputs": [
        {
          "output_type": "execute_result",
          "data": {
            "text/plain": [
              "numpy.ndarray"
            ]
          },
          "metadata": {},
          "execution_count": 262
        }
      ]
    },
    {
      "cell_type": "code",
      "source": [
        "Xtest = Xtest.to_numpy()\n",
        "type(Xtest)"
      ],
      "metadata": {
        "colab": {
          "base_uri": "https://localhost:8080/"
        },
        "id": "sSHvm1ZXi4Hl",
        "outputId": "8493cdd2-9d40-4109-b30f-d32dfc5b5c2c"
      },
      "execution_count": 263,
      "outputs": [
        {
          "output_type": "execute_result",
          "data": {
            "text/plain": [
              "numpy.ndarray"
            ]
          },
          "metadata": {},
          "execution_count": 263
        }
      ]
    },
    {
      "cell_type": "code",
      "source": [
        "ytrain=vec.iloc[:size,-1]\n",
        "ytest=vec.iloc[size:,-1]"
      ],
      "metadata": {
        "id": "D21j-meiqgfg"
      },
      "execution_count": 225,
      "outputs": []
    },
    {
      "cell_type": "code",
      "source": [
        "ytrain = ytrain.to_numpy()"
      ],
      "metadata": {
        "id": "f1mwhLlQgbK6"
      },
      "execution_count": 264,
      "outputs": []
    },
    {
      "cell_type": "code",
      "source": [
        "ytest = ytest.to_numpy()"
      ],
      "metadata": {
        "id": "F3qS-a_ABM7j"
      },
      "execution_count": 269,
      "outputs": []
    },
    {
      "cell_type": "code",
      "source": [
        "# words.ponderations"
      ],
      "metadata": {
        "id": "ItvInHtzXCQj"
      },
      "execution_count": 265,
      "outputs": []
    },
    {
      "cell_type": "code",
      "source": [
        "# pond=words.ponderations"
      ],
      "metadata": {
        "id": "kcJivwakYhLG"
      },
      "execution_count": 266,
      "outputs": []
    },
    {
      "cell_type": "code",
      "source": [
        "# train={}\n",
        "# test={}\n",
        "# i=0\n",
        "# for word in pond:\n",
        "#   if i<size:\n",
        "#     train[word]=pond[word]\n",
        "#   else:\n",
        "#     test[word]=pond[word]\n",
        "#   i+=1"
      ],
      "metadata": {
        "id": "8FE32pVbj2tX"
      },
      "execution_count": 267,
      "outputs": []
    },
    {
      "cell_type": "code",
      "source": [
        "import numpy as np \n",
        "\n",
        "\n",
        "class BinaryNaiveBayes:\n",
        "  def fit(self, X, y):\n",
        "    n_samples, n_features = X.shape\n",
        "    self._classes = np.unique(y)\n",
        "    n_classes = len(self._classes)\n",
        "\n",
        "    # calculate mean, var, and prior for each class\n",
        "    self._mean = np.zeros((n_classes, n_features), dtype=np.float64)\n",
        "    self._var = np.zeros((n_classes, n_features), dtype=np.float64)\n",
        "    self._priors = np.zeros(n_classes, dtype=np.float64)\n",
        "\n",
        "    for idx, c in enumerate(self._classes):\n",
        "       X_c = X[y == c]\n",
        "       self._mean[idx, :] = X_c.mean(axis=0)\n",
        "       self._var[idx, :] = X_c.var(axis=0)\n",
        "       self._priors[idx] = X_c.shape[0] / float(n_samples)\n",
        "\n",
        "  def predict(self, X):\n",
        "     y_pred = [self._predict(x) for x in X]\n",
        "     return np.array(y_pred)\n",
        "\n",
        "  def _predict(self, x):\n",
        "    posteriors = []\n",
        "\n",
        "    for idx, c in enumerate(self._classes):\n",
        "      prior = np.log(self._priors[idx])\n",
        "      posterior = np.sum(np.log(self._pdf(idx, x)))\n",
        "      posterior = prior + posterior\n",
        "      posteriors.append(posterior)\n",
        "  \n",
        "    # return class with highest posterior probability\n",
        "    return self._classes[np.argmax(posteriors)]\n",
        "\n",
        "  def _pdf(self, class_idx, x):\n",
        "    mean = self._mean[class_idx]\n",
        "    var = self._var[class_idx]\n",
        "    \n",
        "    numerator = np.exp(-(x - mean) ** 2) / (2 * var)\n",
        "    denominator = np.sqrt(2 * np.pi * var)\n",
        "    return numerator / denominator\n",
        "\n",
        "def accuracy(y_true, y_pred):\n",
        "  accuracy = np.sum(y_true == y_pred) / len(y_true)\n",
        "  return accuracy"
      ],
      "metadata": {
        "id": "EqV4_3palAzf"
      },
      "execution_count": 287,
      "outputs": []
    },
    {
      "cell_type": "code",
      "source": [
        "bnb = BinaryNaiveBayes()\n",
        "bnb.fit(Xtrain, ytrain)"
      ],
      "metadata": {
        "id": "HNgOy2c3ou1f"
      },
      "execution_count": 288,
      "outputs": []
    },
    {
      "cell_type": "code",
      "source": [
        "predictions = bnb.predict(Xtest)\n",
        "print(predictions)\n",
        "print(\"Naive Bayes classification accuracy\", accuracy(ytest, predictions))"
      ],
      "metadata": {
        "colab": {
          "base_uri": "https://localhost:8080/"
        },
        "id": "sz7VDyNO2Osw",
        "outputId": "eee6476a-a810-48fe-c390-6cf5e6ddc058"
      },
      "execution_count": 289,
      "outputs": [
        {
          "output_type": "stream",
          "name": "stdout",
          "text": [
            "[0 0 0 0 0 0 0 0 0 0 0 0 0 0 0 0 0 0 0 0]\n",
            "Naive Bayes classification accuracy 0.7\n"
          ]
        },
        {
          "output_type": "stream",
          "name": "stderr",
          "text": [
            "/usr/local/lib/python3.7/dist-packages/ipykernel_launcher.py:41: RuntimeWarning: divide by zero encountered in true_divide\n"
          ]
        }
      ]
    },
    {
      "cell_type": "code",
      "source": [
        "from sklearn.metrics import confusion_matrix"
      ],
      "metadata": {
        "id": "w-yb79EnB7Yx"
      },
      "execution_count": 290,
      "outputs": []
    },
    {
      "cell_type": "code",
      "source": [
        "from sklearn.metrics._plot.confusion_matrix import ConfusionMatrixDisplay\n"
      ],
      "metadata": {
        "colab": {
          "base_uri": "https://localhost:8080/"
        },
        "id": "dwrzIfXJHfdU",
        "outputId": "51fdcad8-3ba2-4329-a930-fcf735cfa7f5"
      },
      "execution_count": 294,
      "outputs": [
        {
          "output_type": "execute_result",
          "data": {
            "text/plain": [
              "<sklearn.metrics._plot.confusion_matrix.ConfusionMatrixDisplay at 0x7f5408366750>"
            ]
          },
          "metadata": {},
          "execution_count": 294
        }
      ]
    },
    {
      "cell_type": "code",
      "source": [
        "cm = confusion_matrix(ytest, predictions, normalize='all')\n",
        "cmd = ConfusionMatrixDisplay(cm, display_labels=['positive','negative'])\n",
        "cmd.plot()\n",
        "cmd.ax_.set(xlabel='Predicted', ylabel='True')\n"
      ],
      "metadata": {
        "colab": {
          "base_uri": "https://localhost:8080/",
          "height": 300
        },
        "id": "bt9z0XUQHVeR",
        "outputId": "967635ad-cfcb-453f-a200-fad90834fa0b"
      },
      "execution_count": 295,
      "outputs": [
        {
          "output_type": "execute_result",
          "data": {
            "text/plain": [
              "[Text(0, 0.5, 'True'), Text(0.5, 0, 'Predicted')]"
            ]
          },
          "metadata": {},
          "execution_count": 295
        },
        {
          "output_type": "display_data",
          "data": {
            "text/plain": [
              "<Figure size 432x288 with 2 Axes>"
            ],
            "image/png": "[encoded data removed]"
          },
          "metadata": {
            "needs_background": "light"
          }
        }
      ]
    }
  ]
}